{
 "cells": [
  {
   "cell_type": "code",
   "execution_count": 1,
   "id": "93fc79fc",
   "metadata": {},
   "outputs": [],
   "source": [
    "import numpy as np \n",
    "import pandas as pd \n",
    "import os\n",
    "import tarfile\n",
    "import sys\n",
    "import pickle\n",
    "from sklearn.model_selection import train_test_split\n",
    "import matplotlib.pyplot as plt"
   ]
  },
  {
   "cell_type": "code",
   "execution_count": 2,
   "id": "e50b0835",
   "metadata": {},
   "outputs": [
    {
     "name": "stdout",
     "output_type": "stream",
     "text": [
      "['batches.meta', 'data_batch_1', 'data_batch_2', 'data_batch_3', 'data_batch_4', 'data_batch_5', 'readme.html', 'test_batch']\n"
     ]
    }
   ],
   "source": [
    "def untar(fname,dirs):\n",
    "    t=tarfile.open(fname)\n",
    "    t.extractall(path=dirs)\n",
    "data_dir='/tmp/cifar-10-batches-py'\n",
    "if not os.path.exists(data_dir):\n",
    "    untar('../input/cifar-10-python.tar.gz','/tmp')\n",
    "print(os.listdir(data_dir))"
   ]
  },
  {
   "cell_type": "code",
   "execution_count": 3,
   "id": "b033f6e5",
   "metadata": {},
   "outputs": [],
   "source": [
    "def load_batch(fpath, label_key='labels'):\n",
    "    with open(fpath, 'rb') as f:\n",
    "        if sys.version_info < (3,):\n",
    "            d = pickle.load(f)\n",
    "        else:\n",
    "            d = pickle.load(f, encoding='bytes')\n",
    "            # decode utf8\n",
    "            d_decoded = {}\n",
    "            for k, v in d.items():\n",
    "                d_decoded[k.decode('utf8')] = v\n",
    "            d = d_decoded\n",
    "    data = d['data']\n",
    "    labels = d[label_key]\n",
    "\n",
    "    data = data.reshape(data.shape[0], 3, 32, 32)\n",
    "    return data, labels"
   ]
  },
  {
   "cell_type": "code",
   "execution_count": 4,
   "id": "7895144e",
   "metadata": {},
   "outputs": [],
   "source": [
    "train_num = 50000\n",
    "train_x = np.zeros(shape=(train_num,3,32,32))\n",
    "train_y = np.zeros(shape=(train_num))\n",
    "\n",
    "test_num = 10000\n",
    "test_x = np.zeros(shape=(test_num,3,32,32))\n",
    "test_y = np.zeros(shape=(test_num))"
   ]
  },
  {
   "cell_type": "code",
   "execution_count": 5,
   "id": "4609cf77",
   "metadata": {},
   "outputs": [],
   "source": [
    "def load_data():\n",
    "    for i in range(1, 6):\n",
    "        begin = (i - 1) * 10000\n",
    "        end = i * 10000\n",
    "        train_x[begin:end, :, :, :], train_y[begin:end] = load_batch(data_dir + \"/data_batch_\" + str(i))\n",
    "\n",
    "    test_x[:], test_y[:] = load_batch(data_dir + \"/test_batch\")\n",
    "load_data()"
   ]
  },
  {
   "cell_type": "code",
   "execution_count": 6,
   "id": "3be3d769",
   "metadata": {},
   "outputs": [
    {
     "name": "stdout",
     "output_type": "stream",
     "text": [
      "(50000, 3, 32, 32)\n",
      "(32, 32, 3)\n"
     ]
    },
    {
     "data": {
      "image/png": "[encoded data removed]",
      "text/plain": [
       "<Figure size 640x480 with 1 Axes>"
      ]
     },
     "metadata": {},
     "output_type": "display_data"
    }
   ],
   "source": [
    "# print(test_y[1:10])\n",
    "print(train_x.shape)\n",
    "image=train_x[3]\n",
    "image=image.transpose(1,2,0)\n",
    "print(image.shape)\n",
    "plt.imshow(image.astype(np.uint8))\n",
    "plt.show()"
   ]
  },
  {
   "cell_type": "code",
   "execution_count": 7,
   "id": "62a9d032",
   "metadata": {},
   "outputs": [
    {
     "name": "stdout",
     "output_type": "stream",
     "text": [
      "channels_last\n"
     ]
    }
   ],
   "source": [
    "import tensorflow as tf\n",
    "if tf.keras.backend.image_data_format() == 'channels_last':\n",
    "    print(\"channels_last\")\n",
    "    test_x = test_x.transpose(0, 2, 3, 1)\n",
    "    train_x = train_x.transpose(0, 2, 3, 1)\n",
    "else:\n",
    "    print(\"channels_first\")"
   ]
  },
  {
   "cell_type": "code",
   "execution_count": 8,
   "id": "de909b9e",
   "metadata": {},
   "outputs": [],
   "source": [
    "#normalization\n",
    "train_x = train_x/255.0\n",
    "test_x = test_x/255.0"
   ]
  },
  {
   "cell_type": "code",
   "execution_count": 9,
   "id": "b721bc24",
   "metadata": {},
   "outputs": [],
   "source": [
    "train_y = tf.keras.utils.to_categorical(train_y,10)\n",
    "test_y = tf.keras.utils.to_categorical(test_y,10)"
   ]
  },
  {
   "cell_type": "code",
   "execution_count": 13,
   "id": "2e3195c3",
   "metadata": {},
   "outputs": [
    {
     "name": "stderr",
     "output_type": "stream",
     "text": [
      "C:\\Users\\tusha\\anaconda3\\lib\\site-packages\\tensorflow\\python\\keras\\optimizer_v2\\optimizer_v2.py:374: UserWarning: The `lr` argument is deprecated, use `learning_rate` instead.\n",
      "  warnings.warn(\n"
     ]
    }
   ],
   "source": [
    "from tensorflow import keras\n",
    "from tensorflow.keras import Sequential\n",
    "from tensorflow.keras.layers import Activation,Dense,Conv2D,MaxPooling2D,Flatten,BatchNormalization,Dropout\n",
    "model = Sequential()\n",
    "model.add(Conv2D(32, (3, 3), padding='same',\n",
    "                 input_shape=train_x.shape[1:]))\n",
    "model.add(Activation('relu'))\n",
    "model.add(Conv2D(32, (3, 3)))\n",
    "model.add(Activation('relu'))\n",
    "model.add(MaxPooling2D(pool_size=(2, 2)))\n",
    "model.add(Dropout(0.25))\n",
    "\n",
    "model.add(Conv2D(64, (3, 3), padding='same'))\n",
    "model.add(Activation('relu'))\n",
    "model.add(Conv2D(64, (3, 3)))\n",
    "model.add(Activation('relu'))\n",
    "model.add(MaxPooling2D(pool_size=(2, 2)))\n",
    "model.add(Dropout(0.25))\n",
    "\n",
    "model.add(Flatten())\n",
    "model.add(Dense(512))\n",
    "model.add(Activation('relu'))\n",
    "model.add(Dropout(0.5))\n",
    "model.add(Dense(10))\n",
    "model.add(Activation('softmax'))\n",
    "\n",
    "# initiate RMSprop optimizer\n",
    "opt = tf.keras.optimizers.RMSprop(lr=0.0001, decay=1e-6)\n",
    "\n",
    "# Let's train the model using RMSprop\n",
    "model.compile(loss='categorical_crossentropy',\n",
    "              optimizer=opt,\n",
    "              metrics=['accuracy'])\n",
    "\n",
    "# Let's train the model using RMSprop\n",
    "model.compile(loss='categorical_crossentropy',\n",
    "              optimizer=opt,\n",
    "              metrics=['accuracy'])"
   ]
  },
  {
   "cell_type": "code",
   "execution_count": 14,
   "id": "148d44c5",
   "metadata": {},
   "outputs": [
    {
     "name": "stdout",
     "output_type": "stream",
     "text": [
      "Epoch 1/10\n",
      "1563/1563 [==============================] - 15s 6ms/step - loss: 1.7950 - accuracy: 0.3391 - val_loss: 1.5779 - val_accuracy: 0.4171\n",
      "Epoch 2/10\n",
      "1563/1563 [==============================] - 8s 5ms/step - loss: 1.5006 - accuracy: 0.4577 - val_loss: 1.3807 - val_accuracy: 0.4985\n",
      "Epoch 3/10\n",
      "1563/1563 [==============================] - 8s 5ms/step - loss: 1.3562 - accuracy: 0.5148 - val_loss: 1.2915 - val_accuracy: 0.5408\n",
      "Epoch 4/10\n",
      "1563/1563 [==============================] - 8s 5ms/step - loss: 1.2556 - accuracy: 0.5538 - val_loss: 1.1886 - val_accuracy: 0.5770\n",
      "Epoch 5/10\n",
      "1563/1563 [==============================] - 8s 5ms/step - loss: 1.1727 - accuracy: 0.5879 - val_loss: 1.0950 - val_accuracy: 0.6145\n",
      "Epoch 6/10\n",
      "1563/1563 [==============================] - 8s 5ms/step - loss: 1.1054 - accuracy: 0.6101 - val_loss: 1.0497 - val_accuracy: 0.6350\n",
      "Epoch 7/10\n",
      "1563/1563 [==============================] - 8s 5ms/step - loss: 1.0513 - accuracy: 0.6319 - val_loss: 0.9891 - val_accuracy: 0.6565\n",
      "Epoch 8/10\n",
      "1563/1563 [==============================] - 8s 5ms/step - loss: 1.0070 - accuracy: 0.6472 - val_loss: 0.9270 - val_accuracy: 0.6763\n",
      "Epoch 9/10\n",
      "1563/1563 [==============================] - 8s 5ms/step - loss: 0.9684 - accuracy: 0.6613 - val_loss: 0.9285 - val_accuracy: 0.6775\n",
      "Epoch 10/10\n",
      "1563/1563 [==============================] - 8s 5ms/step - loss: 0.9333 - accuracy: 0.6742 - val_loss: 0.8984 - val_accuracy: 0.6865\n"
     ]
    }
   ],
   "source": [
    "batch_size = 32\n",
    "epochs = 10\n",
    "history = model.fit(train_x,train_y,batch_size,epochs,validation_data=(test_x,test_y),shuffle=False)"
   ]
  },
  {
   "cell_type": "code",
   "execution_count": 16,
   "id": "cd1d9c63",
   "metadata": {},
   "outputs": [
    {
     "data": {
      "image/png": "[encoded data removed]",
      "text/plain": [
       "<Figure size 640x480 with 1 Axes>"
      ]
     },
     "metadata": {},
     "output_type": "display_data"
    }
   ],
   "source": [
    "fig = plt.plot(history.history[\"accuracy\"],label = \"train\", color='green')\n",
    "plt.plot(history.history[\"val_accuracy\"],label = \"test\", color='red')\n",
    "plt.legend(loc='upper left')\n",
    "plt.xlabel(\"epochs\")\n",
    "plt.ylabel(\"accuracy\")\n",
    "plt.title(\"accuracy by epochs\")\n",
    "plt.show()"
   ]
  },
  {
   "cell_type": "code",
   "execution_count": 17,
   "id": "d226ca01",
   "metadata": {},
   "outputs": [
    {
     "name": "stdout",
     "output_type": "stream",
     "text": [
      "[3 8 8 0 6 6 1 4 3 1]\n",
      "[3 8 8 ... 5 1 7]\n"
     ]
    }
   ],
   "source": [
    "pre=model.predict(test_x[:10])\n",
    "print(pre.argmax(axis=1))\n",
    "print(test_y.argmax(axis=1))"
   ]
  },
  {
   "cell_type": "code",
   "execution_count": 18,
   "id": "4d0e2ceb",
   "metadata": {},
   "outputs": [],
   "source": [
    "model.save('ass2.h5')"
   ]
  },
  {
   "cell_type": "code",
   "execution_count": null,
   "id": "b2ba8302",
   "metadata": {},
   "outputs": [],
   "source": []
  }
 ],
 "metadata": {
  "kernelspec": {
   "display_name": "Python 3 (ipykernel)",
   "language": "python",
   "name": "python3"
  },
  "language_info": {
   "codemirror_mode": {
    "name": "ipython",
    "version": 3
   },
   "file_extension": ".py",
   "mimetype": "text/x-python",
   "name": "python",
   "nbconvert_exporter": "python",
   "pygments_lexer": "ipython3",
   "version": "3.9.13"
  }
 },
 "nbformat": 4,
 "nbformat_minor": 5
}
